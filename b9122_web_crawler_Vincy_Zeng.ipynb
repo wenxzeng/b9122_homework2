{
 "cells": [
  {
   "cell_type": "code",
   "execution_count": 1,
   "id": "76365d34",
   "metadata": {},
   "outputs": [],
   "source": [
    "import requests\n",
    "from bs4 import BeautifulSoup\n",
    "import re"
   ]
  },
  {
   "cell_type": "markdown",
   "id": "427b4047",
   "metadata": {},
   "source": [
    "\n",
    "question 1 United Nation Problem"
   ]
  },
  {
   "cell_type": "code",
   "execution_count": 9,
   "id": "48db17fe",
   "metadata": {},
   "outputs": [
    {
     "name": "stdout",
     "output_type": "stream",
     "text": [
      "1: https://press.un.org/en/2023/sgsm21967.doc.htm\n",
      "2: https://press.un.org/en/2023/sgsm21947.doc.htm\n",
      "3: https://press.un.org/en/2023/dsgsm1874.doc.htm\n",
      "4: https://press.un.org/en/2023/dsgsm1870.doc.htm\n",
      "5: https://press.un.org/en/2023/sgsm21952.doc.htm\n",
      "6: https://press.un.org/en/2023/sgsm21876.doc.htm\n",
      "7: https://press.un.org/en/2023/sgsm21852.doc.htm\n",
      "8: https://press.un.org/en/2023/sgsm21806.doc.htm\n",
      "9: https://press.un.org/en/2023/dsgsm1848.doc.htm\n",
      "10: https://press.un.org/en/2023/sgsm21765.doc.htm\n",
      "11: https://press.un.org/en/2023/sgsm21767.doc.htm\n",
      "12: https://press.un.org/en/2023/sgsm21723.doc.htm\n",
      "13: https://press.un.org/en/2023/dsgsm1835.doc.htm\n",
      "14: https://press.un.org/en/2023/sgsm21713.doc.htm\n",
      "15: https://press.un.org/en/2023/dsgsm1837.doc.htm\n",
      "16: https://press.un.org/en/2023/dsgsm1833.doc.htm\n",
      "17: https://press.un.org/en/2023/sgsm21709.doc.htm\n",
      "18: https://press.un.org/en/2023/sgsm21706.doc.htm\n",
      "19: https://press.un.org/en/2021/dev3440.doc.htm\n",
      "20: https://press.un.org/en/2021/dev3439.doc.htm\n"
     ]
    }
   ],
   "source": [
    "\n",
    "\n",
    "# Function to check if a page is a press release\n",
    "def is_press_release(page):\n",
    "    anchor_tags = page.find_all('a', href=True)\n",
    "    for tag in anchor_tags:\n",
    "        temp = tag.get('href')\n",
    "        if temp == '/en/press-release':\n",
    "            return True\n",
    "    return False\n",
    "\n",
    "# Function to scrape press releases containing the word \"crisis\"\n",
    "def scrape_press_releases(seed_url, keyword, max_results):\n",
    "    press_releases = []\n",
    "    visited_urls = set()\n",
    "    queue = [seed_url]\n",
    "\n",
    "    while queue and len(press_releases) < max_results:\n",
    "        url = queue.pop(0)\n",
    "\n",
    "        # Check if the URL has already been visited\n",
    "        if url in visited_urls:\n",
    "            continue\n",
    "        visited_urls.add(url)\n",
    "\n",
    "        # Send a GET request to the URL\n",
    "        response = requests.get(url)\n",
    "\n",
    "        # Check if successful\n",
    "        if response.status_code == 200:\n",
    "            soup = BeautifulSoup(response.content, 'html.parser')\n",
    "            # Check if is a press release\n",
    "            if is_press_release(soup):\n",
    "                if keyword.lower() in soup.get_text().lower():\n",
    "                    press_releases.append(url)\n",
    "\n",
    "            # Find and add links to the queue for further crawling\n",
    "            links = soup.find_all('a', href=True)\n",
    "            for link in links:\n",
    "                absolute_url = f\"https://press.un.org{link['href']}\"\n",
    "                if absolute_url.startswith(seed_url):\n",
    "                    queue.append(absolute_url)\n",
    "\n",
    "    return press_releases\n",
    "\n",
    "# Main function to initiate crawling\n",
    "if __name__ == \"__main__\":\n",
    "    seed_url = \"https://press.un.org/en\"\n",
    "    keyword = \"crisis\"\n",
    "    max_results = 20\n",
    "\n",
    "    press_releases = scrape_press_releases(seed_url, keyword, max_results)\n",
    "\n",
    "    if len(press_releases) >= max_results:\n",
    "        for i, release_url in enumerate(press_releases):\n",
    "            print(f\"{i+1}: {release_url}\")\n",
    "    else:\n",
    "        print(\"Insufficient press releases found containing the keyword 'crisis'.\")\n"
   ]
  },
  {
   "cell_type": "markdown",
   "id": "8e7b6125",
   "metadata": {},
   "source": [
    "Question 2 European Parliament problem"
   ]
  },
  {
   "cell_type": "code",
   "execution_count": 43,
   "id": "df238d09",
   "metadata": {},
   "outputs": [
    {
     "name": "stdout",
     "output_type": "stream",
     "text": [
      "1: https://www.europarl.europa.eu/news/en/press-room\n",
      "2: https://www.europarl.europa.eu/news/en/press-room/20230929IPR06130/parliament-argues-for-a-top-up-to-multi-annual-budget-for-crisis-response\n",
      "3: https://www.europarl.europa.eu/news/en/press-room/20210604IPR05513/biodiversity-meps-demand-binding-targets-to-protect-wildlife-and-people\n",
      "4: https://www.europarl.europa.eu/news/en/press-room/20221209IPR64426/eu-long-term-budget-needs-urgent-revision-to-cope-with-current-crises\n",
      "5: https://www.europarl.europa.eu/news/en/press-room/20210304IPR99207/parliament-gives-green-light-for-new-eu4health-programme\n",
      "6: https://www.europarl.europa.eu/news/en/press-room/20220909IPR40138/parliament-adopts-new-rules-on-adequate-minimum-wages-for-all-workers-in-the-eu\n",
      "7: https://www.europarl.europa.eu/news/en/press-room/20230310IPR77232/minimum-income-schemes-increasing-support-accessibility-and-inclusion\n",
      "8: https://www.europarl.europa.eu/news/en/press-room/20230210IPR74806/green-deal-industrial-plan-securing-the-eu-s-clean-tech-leadership\n",
      "9: https://www.europarl.europa.eu/news/en/press-room/20230707IPR02421/parliament-adopts-new-rules-to-boost-energy-savings\n",
      "10: https://www.europarl.europa.eu/news/en/press-room/20220321IPR25913/more-eu-action-needed-for-secure-food-supply\n",
      "11: https://www.europarl.europa.eu/news/en/press-room/20221209IPR64427/holodomor-parliament-recognises-soviet-starvation-of-ukrainians-as-genocide\n",
      "12: https://www.europarl.europa.eu/news/en/press-room/20210422IPR02615/civil-protection-faster-eu-response-to-large-scale-emergencies\n",
      "13: https://www.europarl.europa.eu/news/en/press-room/20220114IPR21015/health-union-a-stronger-role-for-the-european-medicines-agency\n",
      "14: https://www.europarl.europa.eu/news/en/press-room/20220930IPR41927/health-union-stronger-eu-response-to-public-health-emergencies\n",
      "15: https://www.europarl.europa.eu/news/en/press-room/20230707IPR02427/covid-19-parliament-adopts-roadmap-to-better-prepare-for-future-health-crises\n",
      "16: https://www.europarl.europa.eu/news/en/press-room/20230419IPR80906/asylum-and-migration-parliament-confirms-key-reform-mandates\n",
      "17: https://www.europarl.europa.eu/news/en/press-room/20201002IPR88432/parliament-demands-a-legally-binding-effective-mechanism-to-protect-eu-values\n",
      "18: https://www.europarl.europa.eu/news/en/press-room/20220701IPR34366/protecting-mental-health-in-the-digital-workspace\n",
      "19: https://www.europarl.europa.eu/news/en/press-room/20210114IPR95618/right-to-disconnect-should-be-an-eu-wide-fundamental-right-meps-say\n",
      "20: https://www.europarl.europa.eu/news/en/press-room/20210604IPR05531/parliament-calls-for-beefed-up-eu-security-against-cyber-threats\n"
     ]
    }
   ],
   "source": [
    "import requests\n",
    "from bs4 import BeautifulSoup\n",
    "import re\n",
    "\n",
    "# Function to check if a page is a press release related to plenary sessions\n",
    "def is_plenary_session_press_release(page):\n",
    "    name_tags = page.find_all(class_='ep_name')\n",
    "    #print(name_tags)\n",
    "    for tag in name_tags:\n",
    "        if \"Plenary session\" in tag.get_text():\n",
    "            return True\n",
    "    return False\n",
    "\n",
    "# Function to scrape press releases containing the word \"crisis\" related to plenary sessions\n",
    "def scrape_plenary_session_press_releases(seed_url, keyword, max_results):\n",
    "    press_releases = []\n",
    "    visited_urls = set()\n",
    "    queue = [seed_url]\n",
    "\n",
    "    while queue and len(press_releases) < max_results:\n",
    "        url = queue.pop(0)\n",
    "\n",
    "        # Check if the URL has already been visited\n",
    "        if url in visited_urls:\n",
    "            continue\n",
    "        visited_urls.add(url)\n",
    "\n",
    "        # Send a GET request to the URL\n",
    "        response = requests.get(url)\n",
    "        # Check if the response is successful\n",
    "        if response.status_code == 200:\n",
    "            res =  urllib.request.Request(url)\n",
    "            re = urllib.request.urlopen(res).read()\n",
    "            soup = BeautifulSoup(re)\n",
    "\n",
    "            # Check if the page is a press release related to plenary sessions\n",
    "            if is_plenary_session_press_release(soup):\n",
    "                # Check if the keyword \"crisis\" is present in the page content\n",
    "                if keyword.lower() in soup.get_text().lower():\n",
    "                    press_releases.append(url)\n",
    "\n",
    "            # Find and add links to the queue for further crawling\n",
    "            links = soup.find_all('a',href = True)\n",
    "        \n",
    "            for link in links:\n",
    "                absolute_url = f\"{link['href']}\"\n",
    "                \n",
    "                if absolute_url.startswith(seed_url):\n",
    "                    queue.append(absolute_url)\n",
    "\n",
    "    return press_releases\n",
    "\n",
    "# Main function to initiate crawling\n",
    "if __name__ == \"__main__\":\n",
    "    seed_url = \"https://www.europarl.europa.eu/news/en/press-room\"\n",
    "    keyword = \"crisis\"\n",
    "    max_results = 20\n",
    "\n",
    "    press_releases = scrape_plenary_session_press_releases(seed_url, keyword, max_results)\n",
    "\n",
    "    if len(press_releases) >= max_results:\n",
    "        for i, release_url in enumerate(press_releases):\n",
    "            print(f\"{i+1}: {release_url}\")\n",
    "    else:\n",
    "        print(\"Insufficient plenary session press releases found containing the keyword 'crisis'.\")\n"
   ]
  },
  {
   "cell_type": "markdown",
   "id": "f523e133",
   "metadata": {},
   "source": [
    "Question 3 Creating a Git"
   ]
  },
  {
   "cell_type": "code",
   "execution_count": null,
   "id": "09007e46",
   "metadata": {},
   "outputs": [],
   "source": [
    "see screenshots"
   ]
  }
 ],
 "metadata": {
  "kernelspec": {
   "display_name": "Python 3 (ipykernel)",
   "language": "python",
   "name": "python3"
  },
  "language_info": {
   "codemirror_mode": {
    "name": "ipython",
    "version": 3
   },
   "file_extension": ".py",
   "mimetype": "text/x-python",
   "name": "python",
   "nbconvert_exporter": "python",
   "pygments_lexer": "ipython3",
   "version": "3.9.7"
  }
 },
 "nbformat": 4,
 "nbformat_minor": 5
}
